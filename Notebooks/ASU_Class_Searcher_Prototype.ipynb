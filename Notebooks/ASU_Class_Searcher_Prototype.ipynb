{
 "cells": [
  {
   "cell_type": "markdown",
   "metadata": {},
   "source": [
    "## ASU Class Search and Notifier\n",
    "\n",
    "- Finally Reworking and fixing this project, This Notebook is mainly meant for testing and prototyping the Script.\n"
   ]
  },
  {
   "cell_type": "code",
   "execution_count": 1,
   "metadata": {},
   "outputs": [],
   "source": [
    "import pandas as pd\n",
    "import re\n",
    "\n",
    "from selenium import webdriver\n",
    "from selenium.webdriver.common.by import By\n",
    "from selenium.webdriver.chrome.options import Options\n",
    "from selenium.webdriver.support.ui import WebDriverWait\n",
    "from selenium.webdriver.support import expected_conditions as EC"
   ]
  },
  {
   "cell_type": "code",
   "execution_count": 2,
   "metadata": {},
   "outputs": [],
   "source": [
    "def getTextNumSubject(class_num, class_subject, class_term):\n",
    "    \"\"\"\n",
    "    This Function will get the text from the ASU Class Search Website of all classes available\n",
    "    Based on the Class Num and Subject, So we get all the classes that are loaded in the first page.\n",
    "\n",
    "    For now not getting all classes from all pages since this is mainly meant to keep track of one class\n",
    "    doing all classes is just an interest in case we dont have the class.\n",
    "\n",
    "    That feature will be added in a future iteration.\n",
    "    \"\"\"\n",
    "\n",
    "    # The Link we are trying to Scrape.\n",
    "    link_subject_based = f\"https://catalog.apps.asu.edu/catalog/classes/classlist?campusOrOnlineSelection=A&catalogNbr={class_num}&honors=F&promod=F&searchType=all&subject={class_subject}&term={class_term}\"\n",
    "\n",
    "    # Setting options to add arguments.\n",
    "    chrome_options = Options()\n",
    "    \n",
    "    # Disabling most chrome options that we dont need to increase speed of the script.\n",
    "    chrome_options.add_argument(\"--blink-settings=imagesEnabled=false\")\n",
    "    chrome_options.add_argument(\"--headless\") \n",
    "    chrome_options.add_argument(\"--disable-gpu\")\n",
    "    chrome_options.add_argument(\"--no-sandbox\")\n",
    "    chrome_options.add_argument(\"--disable-extensions\")\n",
    "\n",
    "    # Setting the chrome driver to the options we just set.\n",
    "    driverChrome = webdriver.Chrome(options=chrome_options)\n",
    "\n",
    "    # Getting the link.\n",
    "    driverChrome.get(link_subject_based)\n",
    "\n",
    "    # Waiting 20 seconds so all items load.\n",
    "    wait = WebDriverWait(driverChrome, 20)\n",
    "\n",
    "    # We get the text from the xpath where the table is located.\n",
    "    element = wait.until(EC.visibility_of_element_located((By.XPATH, \"//*[@id='class-results']\")))\n",
    "    # Get the text.\n",
    "    text = element.text\n",
    "\n",
    "    # Close the web driver.\n",
    "    driverChrome.close()\n",
    "\n",
    "    # Return the Text.\n",
    "    return text"
   ]
  },
  {
   "cell_type": "code",
   "execution_count": 3,
   "metadata": {},
   "outputs": [],
   "source": [
    "class_num = \"475\"\n",
    "class_term = 2241\n",
    "class_subject = \"CSE\""
   ]
  },
  {
   "cell_type": "code",
   "execution_count": 4,
   "metadata": {},
   "outputs": [],
   "source": [
    "text = getTextNumSubject(class_num, class_subject, class_term)"
   ]
  },
  {
   "cell_type": "code",
   "execution_count": 5,
   "metadata": {},
   "outputs": [
    {
     "name": "stdout",
     "output_type": "stream",
     "text": [
      "CSE 475 Foundations of Machine Learning\n",
      "Paulo Shakarian\n",
      "iCourse\n",
      "3 of 200\n",
      " open seats\n",
      "Syllabus\n",
      "CSE 475 Foundations of Machine Learning\n",
      "Yingzhen Yang\n",
      "T Th\n",
      "|\n",
      "9:00 AM\n",
      "-\n",
      "10:15 AM\n",
      "Tempe - ISTBX101\n",
      "5 of 125\n",
      " open seats\n",
      "Syllabus\n"
     ]
    }
   ],
   "source": [
    "print(text)"
   ]
  },
  {
   "cell_type": "code",
   "execution_count": 6,
   "metadata": {},
   "outputs": [],
   "source": []
  },
  {
   "cell_type": "code",
   "execution_count": null,
   "metadata": {},
   "outputs": [],
   "source": []
  }
 ],
 "metadata": {
  "kernelspec": {
   "display_name": "Python 3",
   "language": "python",
   "name": "python3"
  },
  "language_info": {
   "codemirror_mode": {
    "name": "ipython",
    "version": 3
   },
   "file_extension": ".py",
   "mimetype": "text/x-python",
   "name": "python",
   "nbconvert_exporter": "python",
   "pygments_lexer": "ipython3",
   "version": "3.10.12"
  }
 },
 "nbformat": 4,
 "nbformat_minor": 2
}
